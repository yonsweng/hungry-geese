{
 "metadata": {
  "language_info": {
   "codemirror_mode": {
    "name": "ipython",
    "version": 3
   },
   "file_extension": ".py",
   "mimetype": "text/x-python",
   "name": "python",
   "nbconvert_exporter": "python",
   "pygments_lexer": "ipython3",
   "version": "3.9.1-final"
  },
  "orig_nbformat": 2,
  "kernelspec": {
   "name": "python3",
   "display_name": "Python 3",
   "language": "python"
  }
 },
 "nbformat": 4,
 "nbformat_minor": 2,
 "cells": [
  {
   "cell_type": "code",
   "execution_count": 1,
   "metadata": {},
   "outputs": [
    {
     "output_type": "stream",
     "name": "stdout",
     "text": [
      "Writing submission.py\n"
     ]
    }
   ],
   "source": [
    "%%writefile submission.py\n",
    "import base64\n",
    "import pickle\n",
    "import zlib\n",
    "import numpy as np\n",
    "import torch\n",
    "import torch.nn as nn\n",
    "import torch.nn.functional as F\n",
    "from kaggle_environments.envs.hungry_geese.hungry_geese import Action\n",
    "\n",
    "\n",
    "class TorusConv2d(nn.Module):\n",
    "    def __init__(self, input_dim, output_dim, kernel_size, bn):\n",
    "        super().__init__()\n",
    "        self.edge_size = (kernel_size[0] // 2, kernel_size[1] // 2)\n",
    "        self.conv = nn.Conv2d(input_dim, output_dim, kernel_size=kernel_size)\n",
    "        self.bn = nn.BatchNorm2d(output_dim) if bn else None\n",
    "\n",
    "    def forward(self, x):\n",
    "        h = torch.cat([x[:,:,:,-self.edge_size[1]:], x, x[:,:,:,:self.edge_size[1]]], dim=3)\n",
    "        h = torch.cat([h[:,:,-self.edge_size[0]:], h, h[:,:,:self.edge_size[0]]], dim=2)\n",
    "        h = self.conv(h)\n",
    "        h = self.bn(h) if self.bn is not None else h\n",
    "        return h\n",
    "\n",
    "\n",
    "class GeeseNet(nn.Module):\n",
    "    def __init__(self):\n",
    "        super().__init__()\n",
    "        layers, filters = 12, 32\n",
    "        self.conv0 = TorusConv2d(18, filters, (3, 3), True)\n",
    "        self.blocks = nn.ModuleList([TorusConv2d(filters, filters, (3, 3), True) for _ in range(layers)])\n",
    "        self.head_p = nn.Linear(filters, 4, bias=False)\n",
    "        self.head_v = nn.Linear(filters * 2, 1, bias=False)\n",
    "\n",
    "    def forward(self, x):\n",
    "        h = F.relu_(self.conv0(x))\n",
    "        for block in self.blocks:\n",
    "            h = F.relu_(h + block(h))\n",
    "        h_head = (h * x[:,:1]).view(h.size(0), h.size(1), -1).sum(-1)\n",
    "        h_avg = h.view(h.size(0), h.size(1), -1).mean(-1)\n",
    "        p = self.head_p(h_head)\n",
    "        v = torch.tanh(self.head_v(torch.cat([h_head, h_avg], 1)))\n",
    "        return p, v\n",
    "\n",
    "\n",
    "state_dict = _STATE_DICT_\n",
    "\n",
    "state_dict = pickle.loads(zlib.decompress(base64.b64decode(state_dict)))\n",
    "\n",
    "device = torch.device('cuda' if torch.cuda.is_available() else 'cpu')\n",
    "\n",
    "model = GeeseNet()\n",
    "model.load_state_dict(state_dict)\n",
    "model.to(device)\n",
    "model.eval()\n",
    "\n",
    "obs_prev = None\n",
    "\n",
    "\n",
    "# Modified from https://www.kaggle.com/yuricat/smart-geese-trained-by-reinforcement-learning\n",
    "def process_obs(obs):\n",
    "    global obs_prev\n",
    "    b = np.zeros((18, 7 * 11), dtype=np.float32)\n",
    "    b[-1] = 1  # empty cells\n",
    "\n",
    "    for p, pos_list in enumerate(obs['geese']):\n",
    "        # head position\n",
    "        for pos in pos_list[:1]:\n",
    "            b[0 + (p - obs['index']) % 4, pos] = 1\n",
    "            b[-1, pos] = 0\n",
    "        # tip position\n",
    "        for pos in pos_list[-1:]:\n",
    "            b[4 + (p - obs['index']) % 4, pos] = 1\n",
    "            b[-1, pos] = 0\n",
    "        # whole position\n",
    "        for pos in pos_list:\n",
    "            b[8 + (p - obs['index']) % 4, pos] = 1\n",
    "            b[-1, pos] = 0\n",
    "\n",
    "    # previous head position\n",
    "    if obs_prev is not None:\n",
    "        for p, pos_list in enumerate(obs_prev['geese']):\n",
    "            for pos in pos_list[:1]:\n",
    "                b[12 + (p - obs['index']) % 4, pos] = 1\n",
    "                b[-1, pos] = 0\n",
    "\n",
    "    # food\n",
    "    for pos in obs['food']:\n",
    "        b[16, pos] = 1\n",
    "        b[-1, pos] = 0\n",
    "\n",
    "    return b.reshape(-1, 7, 11)\n",
    "\n",
    "\n",
    "def agent(obs, conf):\n",
    "    global model, obs_prev\n",
    "    obs_backup = obs\n",
    "    obs = process_obs(obs).reshape(1, -1, 7, 11)\n",
    "    obs = torch.from_numpy(obs).to(device)\n",
    "    action, _ = model(obs)\n",
    "    action = action.squeeze().argmax().item() + 1\n",
    "    obs_prev = obs_backup\n",
    "    return Action(action).name"
   ]
  },
  {
   "cell_type": "code",
   "execution_count": 3,
   "metadata": {},
   "outputs": [
    {
     "output_type": "stream",
     "name": "stdout",
     "text": [
      "Loading models/model_376000_steps.zip\n"
     ]
    }
   ],
   "source": [
    "import base64\n",
    "import pickle\n",
    "import zlib\n",
    "import os\n",
    "import glob\n",
    "from stable_baselines3 import PPO\n",
    "from stable_baselines3.common.env_util import make_vec_env\n",
    "from geese_env import HungryGeeseEnv\n",
    "\n",
    "num_cpu = 4\n",
    "env = make_vec_env(HungryGeeseEnv, n_envs=num_cpu)\n",
    "\n",
    "list_of_files = glob.glob('models/*.zip')\n",
    "latest_file = max(list_of_files, key=os.path.getctime)\n",
    "print('Loading', latest_file)\n",
    "model = PPO.load(latest_file, env)\n",
    "\n",
    "_state_dict = model.policy.to('cpu').state_dict()\n",
    "state_dict = {\n",
    "    key[14:]: _state_dict[key]\n",
    "    for key in _state_dict.keys() if key.startswith('mlp_extractor.')\n",
    "}\n",
    "\n",
    "state_dict = base64.b64encode(zlib.compress(pickle.dumps(state_dict)))\n",
    "with open('submission.py', 'r') as file:\n",
    "    src = file.read()\n",
    "src = src.replace(\"_STATE_DICT_\", f\"{state_dict}\")\n",
    "with open('submission.py', 'w') as file:\n",
    "    file.write(src)"
   ]
  },
  {
   "cell_type": "code",
   "execution_count": 9,
   "metadata": {},
   "outputs": [
    {
     "output_type": "stream",
     "name": "stdout",
     "text": [
      "100%|█████████████████████████████████████████| 585k/585k [00:04<00:00, 140kB/s]\n",
      "Successfully submitted to Hungry Geese"
     ]
    }
   ],
   "source": [
    "!kaggle competitions submit -c hungry-geese -f submission.py -m \"PPO\""
   ]
  }
 ]
}